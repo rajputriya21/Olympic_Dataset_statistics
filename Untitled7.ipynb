{
 "cells": [
  {
   "cell_type": "code",
   "execution_count": 4,
   "id": "3d2b2a78",
   "metadata": {},
   "outputs": [
    {
     "name": "stdout",
     "output_type": "stream",
     "text": [
      "Barcelona 1\n",
      "London 3\n",
      "Antwerpen 1\n",
      "Paris 2\n",
      "Calgary 1\n",
      "Albertville 1\n",
      "Lillehammer 1\n",
      "Los Angeles 2\n",
      "Salt Lake City 1\n",
      "Helsinki 1\n",
      "Lake Placid 2\n",
      "Sydney 1\n",
      "Atlanta 1\n",
      "Stockholm 2\n",
      "Sochi 1\n",
      "Nagano 1\n",
      "Torino 1\n",
      "Beijing 1\n",
      "Rio de Janeiro 1\n",
      "Athina 3\n",
      "Squaw Valley 1\n",
      "Innsbruck 2\n",
      "Sarajevo 1\n",
      "Mexico City 1\n",
      "Munich 1\n",
      "Seoul 1\n",
      "Berlin 1\n",
      "Oslo 1\n",
      "Cortina d'Ampezzo 1\n",
      "Melbourne 1\n",
      "Roma 1\n",
      "Amsterdam 1\n",
      "Montreal 1\n",
      "Moskva 1\n",
      "Tokyo 1\n",
      "Vancouver 1\n",
      "Grenoble 1\n",
      "Sapporo 1\n",
      "Chamonix 1\n",
      "St. Louis 1\n",
      "Sankt Moritz 2\n",
      "Garmisch-Partenkirchen 1\n"
     ]
    }
   ],
   "source": [
    "import pandas as pd\n",
    "olympics = pd.read_csv(\"olympics_cleaned.csv\")\n",
    "d = {}\n",
    "for city in olympics['City'].unique():\n",
    "    for year in olympics['Year'].unique():\n",
    "        if len(olympics[(olympics['City'] == city) & (olympics['Year']== year)]) > 0:\n",
    "            d[city] = d.get(city,0)+1\n",
    "        \n",
    "for i, j in d.items():\n",
    "    print(i,j)"
   ]
  },
  {
   "cell_type": "code",
   "execution_count": 14,
   "id": "6cabd78c",
   "metadata": {},
   "outputs": [
    {
     "data": {
      "text/html": [
       "<div>\n",
       "<style scoped>\n",
       "    .dataframe tbody tr th:only-of-type {\n",
       "        vertical-align: middle;\n",
       "    }\n",
       "\n",
       "    .dataframe tbody tr th {\n",
       "        vertical-align: top;\n",
       "    }\n",
       "\n",
       "    .dataframe thead th {\n",
       "        text-align: right;\n",
       "    }\n",
       "</style>\n",
       "<table border=\"1\" class=\"dataframe\">\n",
       "  <thead>\n",
       "    <tr style=\"text-align: right;\">\n",
       "      <th></th>\n",
       "      <th>City</th>\n",
       "      <th>No. of times hosted</th>\n",
       "    </tr>\n",
       "  </thead>\n",
       "  <tbody>\n",
       "    <tr>\n",
       "      <th>1</th>\n",
       "      <td>London</td>\n",
       "      <td>3</td>\n",
       "    </tr>\n",
       "    <tr>\n",
       "      <th>19</th>\n",
       "      <td>Athina</td>\n",
       "      <td>3</td>\n",
       "    </tr>\n",
       "    <tr>\n",
       "      <th>21</th>\n",
       "      <td>Innsbruck</td>\n",
       "      <td>2</td>\n",
       "    </tr>\n",
       "    <tr>\n",
       "      <th>40</th>\n",
       "      <td>Sankt Moritz</td>\n",
       "      <td>2</td>\n",
       "    </tr>\n",
       "    <tr>\n",
       "      <th>3</th>\n",
       "      <td>Paris</td>\n",
       "      <td>2</td>\n",
       "    </tr>\n",
       "    <tr>\n",
       "      <th>7</th>\n",
       "      <td>Los Angeles</td>\n",
       "      <td>2</td>\n",
       "    </tr>\n",
       "    <tr>\n",
       "      <th>10</th>\n",
       "      <td>Lake Placid</td>\n",
       "      <td>2</td>\n",
       "    </tr>\n",
       "    <tr>\n",
       "      <th>13</th>\n",
       "      <td>Stockholm</td>\n",
       "      <td>2</td>\n",
       "    </tr>\n",
       "    <tr>\n",
       "      <th>31</th>\n",
       "      <td>Amsterdam</td>\n",
       "      <td>1</td>\n",
       "    </tr>\n",
       "    <tr>\n",
       "      <th>26</th>\n",
       "      <td>Berlin</td>\n",
       "      <td>1</td>\n",
       "    </tr>\n",
       "  </tbody>\n",
       "</table>\n",
       "</div>"
      ],
      "text/plain": [
       "            City  No. of times hosted\n",
       "1         London                    3\n",
       "19        Athina                    3\n",
       "21     Innsbruck                    2\n",
       "40  Sankt Moritz                    2\n",
       "3          Paris                    2\n",
       "7    Los Angeles                    2\n",
       "10   Lake Placid                    2\n",
       "13     Stockholm                    2\n",
       "31     Amsterdam                    1\n",
       "26        Berlin                    1"
      ]
     },
     "execution_count": 14,
     "metadata": {},
     "output_type": "execute_result"
    }
   ],
   "source": [
    "df = pd.DataFrame(list(d.items()), columns = ['City','No. of times hosted']).sort_values(by = 'No. of times hosted', ascending = False)\n",
    "df.head(10)"
   ]
  },
  {
   "cell_type": "code",
   "execution_count": 15,
   "id": "0c74ee35",
   "metadata": {},
   "outputs": [
    {
     "data": {
      "text/html": [
       "<div>\n",
       "<style scoped>\n",
       "    .dataframe tbody tr th:only-of-type {\n",
       "        vertical-align: middle;\n",
       "    }\n",
       "\n",
       "    .dataframe tbody tr th {\n",
       "        vertical-align: top;\n",
       "    }\n",
       "\n",
       "    .dataframe thead th {\n",
       "        text-align: right;\n",
       "    }\n",
       "</style>\n",
       "<table border=\"1\" class=\"dataframe\">\n",
       "  <thead>\n",
       "    <tr style=\"text-align: right;\">\n",
       "      <th></th>\n",
       "      <th>Country</th>\n",
       "      <th>Hosted</th>\n",
       "    </tr>\n",
       "  </thead>\n",
       "  <tbody>\n",
       "    <tr>\n",
       "      <th>0</th>\n",
       "      <td>USA</td>\n",
       "      <td>4</td>\n",
       "    </tr>\n",
       "    <tr>\n",
       "      <th>1</th>\n",
       "      <td>UK</td>\n",
       "      <td>3</td>\n",
       "    </tr>\n",
       "    <tr>\n",
       "      <th>2</th>\n",
       "      <td>Greece</td>\n",
       "      <td>3</td>\n",
       "    </tr>\n",
       "    <tr>\n",
       "      <th>3</th>\n",
       "      <td>Austria</td>\n",
       "      <td>2</td>\n",
       "    </tr>\n",
       "    <tr>\n",
       "      <th>4</th>\n",
       "      <td>Switzerland</td>\n",
       "      <td>2</td>\n",
       "    </tr>\n",
       "    <tr>\n",
       "      <th>5</th>\n",
       "      <td>France</td>\n",
       "      <td>2</td>\n",
       "    </tr>\n",
       "    <tr>\n",
       "      <th>6</th>\n",
       "      <td>Sweden</td>\n",
       "      <td>2</td>\n",
       "    </tr>\n",
       "  </tbody>\n",
       "</table>\n",
       "</div>"
      ],
      "text/plain": [
       "       Country  Hosted\n",
       "0          USA       4\n",
       "1           UK       3\n",
       "2       Greece       3\n",
       "3      Austria       2\n",
       "4  Switzerland       2\n",
       "5       France       2\n",
       "6       Sweden       2"
      ]
     },
     "execution_count": 15,
     "metadata": {},
     "output_type": "execute_result"
    }
   ],
   "source": [
    "countries_cities_map = {\"USA\": [\"Lake Placid\", \"Los Angeles\"], \"UK\": [\"London\"], \"Greece\": [\"Athina\"], \"Austria\": [\"Innsbruck\"], \"Switzerland\": [\"Sankt Moritz\"], \"France\": [\"Paris\"], \"Sweden\":[\"Stockholm\"]}\n",
    "\n",
    "countries = [\"USA\", \"UK\", \"Greece\", \"Austria\", \"Switzerland\", \"France\", \"Sweden\"]\n",
    "no_of_times = [4, 3, 3, 2, 2, 2, 2]\n",
    "\n",
    "countries_hosted = pd.DataFrame(data = zip(countries,no_of_times), columns = ['Country','Hosted']).sort_values(by='Hosted', ascending = False)\n",
    "\n",
    "countries_hosted"
   ]
  },
  {
   "cell_type": "code",
   "execution_count": null,
   "id": "1d4be34c",
   "metadata": {},
   "outputs": [],
   "source": []
  },
  {
   "cell_type": "code",
   "execution_count": 34,
   "id": "aa4f968e",
   "metadata": {},
   "outputs": [],
   "source": [
    "import pandas as pd\n",
    "olympics = pd.read_csv(\"olympics_cleaned.csv\")\n",
    "olympics.head()\n",
    "\n",
    "a = olympics[olympics['Medal']!= \"DNW\"]\n"
   ]
  },
  {
   "cell_type": "code",
   "execution_count": 40,
   "id": "67490919",
   "metadata": {},
   "outputs": [
    {
     "data": {
      "text/plain": [
       "Year\n",
       "1932    223\n",
       "1980     30\n",
       "1984    352\n",
       "Name: Medal, dtype: int64"
      ]
     },
     "execution_count": 40,
     "metadata": {},
     "output_type": "execute_result"
    }
   ],
   "source": [
    "hosted_city = a[a['City'].isin([\"Los Angeles\", \"Lake Placid\"])]\n",
    "hosted_usa = hosted_city[hosted_city['region']== \"USA\"]\n",
    "hosted_usa.groupby(\"Year\")[\"Medal\"].count()\n"
   ]
  },
  {
   "cell_type": "code",
   "execution_count": 44,
   "id": "6757653b",
   "metadata": {},
   "outputs": [
    {
     "data": {
      "text/plain": [
       "Year\n",
       "1984      9\n",
       "1994     19\n",
       "1896     20\n",
       "1906     24\n",
       "1998     34\n",
       "2006     52\n",
       "1900     63\n",
       "2014     64\n",
       "1908     65\n",
       "2002     84\n",
       "2010     97\n",
       "1928    102\n",
       "1912    107\n",
       "1936    112\n",
       "1956    149\n",
       "1960    152\n",
       "1952    164\n",
       "1948    168\n",
       "1968    173\n",
       "1976    175\n",
       "1964    177\n",
       "1924    194\n",
       "1920    194\n",
       "1972    195\n",
       "1988    214\n",
       "1992    238\n",
       "2000    242\n",
       "2012    248\n",
       "1996    259\n",
       "2004    263\n",
       "2016    264\n",
       "2008    317\n",
       "1904    394\n",
       "Name: Medal, dtype: int64"
      ]
     },
     "execution_count": 44,
     "metadata": {},
     "output_type": "execute_result"
    }
   ],
   "source": [
    "hosted_not_city = a[~a['City'].isin([\"Los Angeles\", \"Lake Placid\"])]\n",
    "hosted_nusa = hosted_not_city[hosted_not_city['region']== \"USA\"]\n",
    "hosted_nusa.groupby(\"Year\")[\"Medal\"].count().sort_values()\n"
   ]
  },
  {
   "cell_type": "code",
   "execution_count": 2,
   "id": "1dd0282f",
   "metadata": {},
   "outputs": [
    {
     "data": {
      "text/plain": [
       "City\n",
       "Albertville               1\n",
       "Amsterdam                 1\n",
       "Antwerpen                 1\n",
       "Athina                    3\n",
       "Atlanta                   1\n",
       "Barcelona                 1\n",
       "Beijing                   1\n",
       "Berlin                    1\n",
       "Calgary                   1\n",
       "Chamonix                  1\n",
       "Cortina d'Ampezzo         1\n",
       "Garmisch-Partenkirchen    1\n",
       "Grenoble                  1\n",
       "Helsinki                  1\n",
       "Innsbruck                 2\n",
       "Lake Placid               2\n",
       "Lillehammer               1\n",
       "London                    3\n",
       "Los Angeles               2\n",
       "Melbourne                 1\n",
       "Mexico City               1\n",
       "Montreal                  1\n",
       "Moskva                    1\n",
       "Munich                    1\n",
       "Nagano                    1\n",
       "Oslo                      1\n",
       "Paris                     2\n",
       "Rio de Janeiro            1\n",
       "Roma                      1\n",
       "Salt Lake City            1\n",
       "Sankt Moritz              2\n",
       "Sapporo                   1\n",
       "Sarajevo                  1\n",
       "Seoul                     1\n",
       "Sochi                     1\n",
       "Squaw Valley              1\n",
       "St. Louis                 1\n",
       "Stockholm                 2\n",
       "Sydney                    1\n",
       "Tokyo                     1\n",
       "Torino                    1\n",
       "Vancouver                 1\n",
       "Name: Year, dtype: int64"
      ]
     },
     "execution_count": 2,
     "metadata": {},
     "output_type": "execute_result"
    }
   ],
   "source": [
    "import pandas as pd\n",
    "olympics = pd.read_csv(\"olympics_cleaned.csv\")\n",
    "a = olympics.groupby('City')['Year'].nunique()\n",
    "a"
   ]
  },
  {
   "cell_type": "code",
   "execution_count": 21,
   "id": "01320b15",
   "metadata": {},
   "outputs": [
    {
     "ename": "AttributeError",
     "evalue": "'Series' object has no attribute 'column'",
     "output_type": "error",
     "traceback": [
      "\u001b[1;31m---------------------------------------------------------------------------\u001b[0m",
      "\u001b[1;31mAttributeError\u001b[0m                            Traceback (most recent call last)",
      "Cell \u001b[1;32mIn[21], line 4\u001b[0m\n\u001b[0;32m      2\u001b[0m olympics \u001b[38;5;241m=\u001b[39m pd\u001b[38;5;241m.\u001b[39mread_csv(\u001b[38;5;124m\"\u001b[39m\u001b[38;5;124molympics_cleaned.csv\u001b[39m\u001b[38;5;124m\"\u001b[39m)\n\u001b[0;32m      3\u001b[0m a \u001b[38;5;241m=\u001b[39m olympics\u001b[38;5;241m.\u001b[39mgroupby(\u001b[38;5;124m'\u001b[39m\u001b[38;5;124mCity\u001b[39m\u001b[38;5;124m'\u001b[39m)[\u001b[38;5;124m'\u001b[39m\u001b[38;5;124mYear\u001b[39m\u001b[38;5;124m'\u001b[39m]\u001b[38;5;241m.\u001b[39mnunique()\n\u001b[1;32m----> 4\u001b[0m a\u001b[38;5;241m.\u001b[39mcolumn[\u001b[38;5;124m'\u001b[39m\u001b[38;5;124mCity\u001b[39m\u001b[38;5;124m'\u001b[39m,\u001b[38;5;124m'\u001b[39m\u001b[38;5;124mNo. of times hosted\u001b[39m\u001b[38;5;124m'\u001b[39m]\n\u001b[0;32m      5\u001b[0m a\n",
      "File \u001b[1;32m~\\anaconda3\\Lib\\site-packages\\pandas\\core\\generic.py:5902\u001b[0m, in \u001b[0;36mNDFrame.__getattr__\u001b[1;34m(self, name)\u001b[0m\n\u001b[0;32m   5895\u001b[0m \u001b[38;5;28;01mif\u001b[39;00m (\n\u001b[0;32m   5896\u001b[0m     name \u001b[38;5;129;01mnot\u001b[39;00m \u001b[38;5;129;01min\u001b[39;00m \u001b[38;5;28mself\u001b[39m\u001b[38;5;241m.\u001b[39m_internal_names_set\n\u001b[0;32m   5897\u001b[0m     \u001b[38;5;129;01mand\u001b[39;00m name \u001b[38;5;129;01mnot\u001b[39;00m \u001b[38;5;129;01min\u001b[39;00m \u001b[38;5;28mself\u001b[39m\u001b[38;5;241m.\u001b[39m_metadata\n\u001b[0;32m   5898\u001b[0m     \u001b[38;5;129;01mand\u001b[39;00m name \u001b[38;5;129;01mnot\u001b[39;00m \u001b[38;5;129;01min\u001b[39;00m \u001b[38;5;28mself\u001b[39m\u001b[38;5;241m.\u001b[39m_accessors\n\u001b[0;32m   5899\u001b[0m     \u001b[38;5;129;01mand\u001b[39;00m \u001b[38;5;28mself\u001b[39m\u001b[38;5;241m.\u001b[39m_info_axis\u001b[38;5;241m.\u001b[39m_can_hold_identifiers_and_holds_name(name)\n\u001b[0;32m   5900\u001b[0m ):\n\u001b[0;32m   5901\u001b[0m     \u001b[38;5;28;01mreturn\u001b[39;00m \u001b[38;5;28mself\u001b[39m[name]\n\u001b[1;32m-> 5902\u001b[0m \u001b[38;5;28;01mreturn\u001b[39;00m \u001b[38;5;28mobject\u001b[39m\u001b[38;5;241m.\u001b[39m\u001b[38;5;21m__getattribute__\u001b[39m(\u001b[38;5;28mself\u001b[39m, name)\n",
      "\u001b[1;31mAttributeError\u001b[0m: 'Series' object has no attribute 'column'"
     ]
    }
   ],
   "source": [
    "import pandas as pd\n",
    "olympics = pd.read_csv(\"olympics_cleaned.csv\")\n",
    "a = olympics.groupby('City')['Year'].nunique()\n",
    "a.column['City','No. of times hosted']\n",
    "a"
   ]
  },
  {
   "cell_type": "code",
   "execution_count": 1,
   "id": "3196daa4",
   "metadata": {},
   "outputs": [
    {
     "ename": "NameError",
     "evalue": "name 'pd' is not defined",
     "output_type": "error",
     "traceback": [
      "\u001b[1;31m---------------------------------------------------------------------------\u001b[0m",
      "\u001b[1;31mNameError\u001b[0m                                 Traceback (most recent call last)",
      "Cell \u001b[1;32mIn[1], line 1\u001b[0m\n\u001b[1;32m----> 1\u001b[0m df \u001b[38;5;241m=\u001b[39m pd\u001b[38;5;241m.\u001b[39mDataFrame(a, columns \u001b[38;5;241m=\u001b[39m [\u001b[38;5;124m'\u001b[39m\u001b[38;5;124mCity\u001b[39m\u001b[38;5;124m'\u001b[39m,\u001b[38;5;124m'\u001b[39m\u001b[38;5;124mNo. of times hosted\u001b[39m\u001b[38;5;124m'\u001b[39m])\u001b[38;5;241m.\u001b[39msort_values(by \u001b[38;5;241m=\u001b[39m \u001b[38;5;124m'\u001b[39m\u001b[38;5;124mNo. of times hosted\u001b[39m\u001b[38;5;124m'\u001b[39m, ascending \u001b[38;5;241m=\u001b[39m \u001b[38;5;28;01mFalse\u001b[39;00m)\n\u001b[0;32m      2\u001b[0m df\u001b[38;5;241m.\u001b[39mhead()\n",
      "\u001b[1;31mNameError\u001b[0m: name 'pd' is not defined"
     ]
    }
   ],
   "source": [
    "df = pd.DataFrame(a, columns = ['City','No. of times hosted']).sort_values(by = 'No. of times hosted', ascending = False)\n",
    "df.head()"
   ]
  },
  {
   "cell_type": "code",
   "execution_count": null,
   "id": "ea8b41c9",
   "metadata": {},
   "outputs": [],
   "source": []
  },
  {
   "cell_type": "code",
   "execution_count": null,
   "id": "adc97bfd",
   "metadata": {},
   "outputs": [],
   "source": []
  },
  {
   "cell_type": "code",
   "execution_count": null,
   "id": "d6e4def7",
   "metadata": {},
   "outputs": [],
   "source": []
  },
  {
   "cell_type": "code",
   "execution_count": null,
   "id": "f87a8f2e",
   "metadata": {},
   "outputs": [],
   "source": []
  },
  {
   "cell_type": "code",
   "execution_count": 2,
   "id": "308982f7",
   "metadata": {},
   "outputs": [
    {
     "data": {
      "text/html": [
       "<div>\n",
       "<style scoped>\n",
       "    .dataframe tbody tr th:only-of-type {\n",
       "        vertical-align: middle;\n",
       "    }\n",
       "\n",
       "    .dataframe tbody tr th {\n",
       "        vertical-align: top;\n",
       "    }\n",
       "\n",
       "    .dataframe thead th {\n",
       "        text-align: right;\n",
       "    }\n",
       "</style>\n",
       "<table border=\"1\" class=\"dataframe\">\n",
       "  <thead>\n",
       "    <tr style=\"text-align: right;\">\n",
       "      <th></th>\n",
       "      <th>City</th>\n",
       "      <th>No. of times hosted</th>\n",
       "    </tr>\n",
       "  </thead>\n",
       "  <tbody>\n",
       "    <tr>\n",
       "      <th>3</th>\n",
       "      <td>Athina</td>\n",
       "      <td>3</td>\n",
       "    </tr>\n",
       "    <tr>\n",
       "      <th>17</th>\n",
       "      <td>London</td>\n",
       "      <td>3</td>\n",
       "    </tr>\n",
       "    <tr>\n",
       "      <th>30</th>\n",
       "      <td>Sankt Moritz</td>\n",
       "      <td>2</td>\n",
       "    </tr>\n",
       "    <tr>\n",
       "      <th>26</th>\n",
       "      <td>Paris</td>\n",
       "      <td>2</td>\n",
       "    </tr>\n",
       "    <tr>\n",
       "      <th>37</th>\n",
       "      <td>Stockholm</td>\n",
       "      <td>2</td>\n",
       "    </tr>\n",
       "    <tr>\n",
       "      <th>18</th>\n",
       "      <td>Los Angeles</td>\n",
       "      <td>2</td>\n",
       "    </tr>\n",
       "    <tr>\n",
       "      <th>15</th>\n",
       "      <td>Lake Placid</td>\n",
       "      <td>2</td>\n",
       "    </tr>\n",
       "    <tr>\n",
       "      <th>14</th>\n",
       "      <td>Innsbruck</td>\n",
       "      <td>2</td>\n",
       "    </tr>\n",
       "    <tr>\n",
       "      <th>0</th>\n",
       "      <td>Albertville</td>\n",
       "      <td>1</td>\n",
       "    </tr>\n",
       "    <tr>\n",
       "      <th>27</th>\n",
       "      <td>Rio de Janeiro</td>\n",
       "      <td>1</td>\n",
       "    </tr>\n",
       "  </tbody>\n",
       "</table>\n",
       "</div>"
      ],
      "text/plain": [
       "              City  No. of times hosted\n",
       "3           Athina                    3\n",
       "17          London                    3\n",
       "30    Sankt Moritz                    2\n",
       "26           Paris                    2\n",
       "37       Stockholm                    2\n",
       "18     Los Angeles                    2\n",
       "15     Lake Placid                    2\n",
       "14       Innsbruck                    2\n",
       "0      Albertville                    1\n",
       "27  Rio de Janeiro                    1"
      ]
     },
     "execution_count": 2,
     "metadata": {},
     "output_type": "execute_result"
    }
   ],
   "source": [
    "import pandas as pd\n",
    "olympics = pd.read_csv(\"olympics_cleaned.csv\")\n",
    "a = olympics.groupby('City')['Year'].nunique().reset_index()\n",
    "\n",
    "a.columns=['City','No. of times hosted']\n",
    "df = a.sort_values(by = 'No. of times hosted' , ascending = False)\n",
    "df.head(10)"
   ]
  },
  {
   "cell_type": "code",
   "execution_count": 81,
   "id": "bcbe5c3d",
   "metadata": {},
   "outputs": [
    {
     "data": {
      "text/html": [
       "<div>\n",
       "<style scoped>\n",
       "    .dataframe tbody tr th:only-of-type {\n",
       "        vertical-align: middle;\n",
       "    }\n",
       "\n",
       "    .dataframe tbody tr th {\n",
       "        vertical-align: top;\n",
       "    }\n",
       "\n",
       "    .dataframe thead th {\n",
       "        text-align: right;\n",
       "    }\n",
       "</style>\n",
       "<table border=\"1\" class=\"dataframe\">\n",
       "  <thead>\n",
       "    <tr style=\"text-align: right;\">\n",
       "      <th></th>\n",
       "      <th>countries</th>\n",
       "      <th>no_of_times</th>\n",
       "    </tr>\n",
       "  </thead>\n",
       "  <tbody>\n",
       "    <tr>\n",
       "      <th>0</th>\n",
       "      <td>USA</td>\n",
       "      <td>4</td>\n",
       "    </tr>\n",
       "    <tr>\n",
       "      <th>1</th>\n",
       "      <td>UK</td>\n",
       "      <td>3</td>\n",
       "    </tr>\n",
       "    <tr>\n",
       "      <th>2</th>\n",
       "      <td>Greece</td>\n",
       "      <td>3</td>\n",
       "    </tr>\n",
       "    <tr>\n",
       "      <th>3</th>\n",
       "      <td>Austria</td>\n",
       "      <td>2</td>\n",
       "    </tr>\n",
       "    <tr>\n",
       "      <th>4</th>\n",
       "      <td>Switzerland</td>\n",
       "      <td>2</td>\n",
       "    </tr>\n",
       "    <tr>\n",
       "      <th>5</th>\n",
       "      <td>France</td>\n",
       "      <td>2</td>\n",
       "    </tr>\n",
       "    <tr>\n",
       "      <th>6</th>\n",
       "      <td>Sweden</td>\n",
       "      <td>2</td>\n",
       "    </tr>\n",
       "  </tbody>\n",
       "</table>\n",
       "</div>"
      ],
      "text/plain": [
       "     countries  no_of_times\n",
       "0          USA            4\n",
       "1           UK            3\n",
       "2       Greece            3\n",
       "3      Austria            2\n",
       "4  Switzerland            2\n",
       "5       France            2\n",
       "6       Sweden            2"
      ]
     },
     "execution_count": 81,
     "metadata": {},
     "output_type": "execute_result"
    }
   ],
   "source": [
    "\n",
    "\n",
    "countries_cities_map = {\"USA\": [\"Lake Placid\", \"Los Angeles\"], \"UK\": [\"London\"], \"Greece\": [\"Athina\"], \"Austria\": [\"Innsbruck\"], \"Switzerland\": [\"Sankt Moritz\"], \"France\": [\"Paris\"], \"Sweden\":[\"Stockholm\"]}\n",
    "\n",
    "countries = [\"USA\", \"UK\", \"Greece\", \"Austria\", \"Switzerland\", \"France\", \"Sweden\"]\n",
    "no_of_times = [4, 3, 3, 2, 2, 2, 2]\n",
    "country_hosted = pd.DataFrame(data = zip(countries,no_of_times),columns= ['countries','no_of_times']).sort_values(by = 'no_of_times',ascending = False)\n",
    "country_hosted"
   ]
  },
  {
   "cell_type": "code",
   "execution_count": 82,
   "id": "68136144",
   "metadata": {},
   "outputs": [
    {
     "data": {
      "text/plain": [
       "Year\n",
       "1932    223\n",
       "1980     30\n",
       "1984    352\n",
       "Name: Medal, dtype: int64"
      ]
     },
     "execution_count": 82,
     "metadata": {},
     "output_type": "execute_result"
    }
   ],
   "source": [
    "a = olympics[(olympics['region'] == 'USA') & (olympics['Medal'] != 'DNW')]\n",
    "hosted_city = a[a['City'].isin(['Los Angeles','Lake Placid'])]\n",
    "hosted_city.groupby('Year')['Medal'].count()"
   ]
  },
  {
   "cell_type": "code",
   "execution_count": 83,
   "id": "000d8b78",
   "metadata": {},
   "outputs": [
    {
     "data": {
      "text/plain": [
       "Year\n",
       "1896     20\n",
       "1900     63\n",
       "1904    394\n",
       "1906     24\n",
       "1908     65\n",
       "1912    107\n",
       "1920    194\n",
       "1924    194\n",
       "1928    102\n",
       "1936    112\n",
       "1948    168\n",
       "1952    164\n",
       "1956    149\n",
       "1960    152\n",
       "1964    177\n",
       "1968    173\n",
       "1972    195\n",
       "1976    175\n",
       "1984      9\n",
       "1988    214\n",
       "1992    238\n",
       "1994     19\n",
       "1996    259\n",
       "1998     34\n",
       "2000    242\n",
       "2002     84\n",
       "2004    263\n",
       "2006     52\n",
       "2008    317\n",
       "2010     97\n",
       "2012    248\n",
       "2014     64\n",
       "2016    264\n",
       "Name: Medal, dtype: int64"
      ]
     },
     "execution_count": 83,
     "metadata": {},
     "output_type": "execute_result"
    }
   ],
   "source": [
    "\n",
    "not_hosted_city = a[~a['City'].isin(['Los Angeles','Lake Placid'])]\n",
    "not_hosted_city.groupby('Year')['Medal'].count()"
   ]
  },
  {
   "cell_type": "code",
   "execution_count": 86,
   "id": "9c1f3d8f",
   "metadata": {},
   "outputs": [
    {
     "name": "stdout",
     "output_type": "stream",
     "text": [
      "0.42272390900174206\n",
      "Fail to reject the null hypothesis. There is no significant difference.\n"
     ]
    }
   ],
   "source": [
    "from scipy.stats import ttest_ind\n",
    "hosted_data = hosted_city.groupby('Year')['Medal'].count()\n",
    "non_hosted_data = not_hosted_city.groupby('Year')['Medal'].count()\n",
    "\n",
    "t_stat, p_value = ttest_ind(hosted_data, non_hosted_data)\n",
    "print(p_value)\n",
    "\n",
    "alpha = 0.05\n",
    "\n",
    "if p_value < alpha:\n",
    "    print(\"Reject the null hypothesis. There is a significant difference.\")\n",
    "else:\n",
    "    print(\"Fail to reject the null hypothesis. There is no significant difference.\")\n"
   ]
  },
  {
   "cell_type": "code",
   "execution_count": null,
   "id": "741e338c",
   "metadata": {},
   "outputs": [],
   "source": []
  },
  {
   "cell_type": "code",
   "execution_count": null,
   "id": "b3d4a151",
   "metadata": {},
   "outputs": [],
   "source": []
  }
 ],
 "metadata": {
  "kernelspec": {
   "display_name": "Python 3 (ipykernel)",
   "language": "python",
   "name": "python3"
  },
  "language_info": {
   "codemirror_mode": {
    "name": "ipython",
    "version": 3
   },
   "file_extension": ".py",
   "mimetype": "text/x-python",
   "name": "python",
   "nbconvert_exporter": "python",
   "pygments_lexer": "ipython3",
   "version": "3.11.3"
  }
 },
 "nbformat": 4,
 "nbformat_minor": 5
}
